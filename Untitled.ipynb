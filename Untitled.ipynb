{
 "cells": [
  {
   "cell_type": "markdown",
   "id": "f4621ecd-499c-4568-9c7a-2e1b61c2f51c",
   "metadata": {},
   "source": [
    "Projekt 3 Technika Programowania\n",
    "Piotr Pachniewski s203254, Mikołaj Patyk"
   ]
  },
  {
   "cell_type": "markdown",
   "id": "7e8f43d2-0a48-481f-9282-adf85604e58e",
   "metadata": {},
   "source": [
    "Import biblioteki:"
   ]
  },
  {
   "cell_type": "code",
   "execution_count": 35,
   "id": "24d02c0c-5c36-4eb7-86d4-63aa2470adfd",
   "metadata": {
    "scrolled": true
   },
   "outputs": [],
   "source": [
    "import _core as fr"
   ]
  },
  {
   "cell_type": "markdown",
   "id": "694c0d3f-350a-4cab-af9b-b61ee657f3a0",
   "metadata": {},
   "source": [
    "funkcja do wyświetlania sygnału sinus:"
   ]
  },
  {
   "cell_type": "code",
   "execution_count": 36,
   "id": "5a496084-dac1-450d-b4d0-fb7218e1025a",
   "metadata": {},
   "outputs": [],
   "source": [
    "sinus =(fr.sinus(1,1,0,6.28,500))"
   ]
  },
  {
   "cell_type": "markdown",
   "id": "3dfd6d23-4353-4c56-83de-0c6520c29296",
   "metadata": {},
   "source": [
    "funkcja do wyświetlania sygnału cos:"
   ]
  },
  {
   "cell_type": "code",
   "execution_count": 37,
   "id": "8fa6b413-6ac8-4626-a6d0-d582411107c5",
   "metadata": {},
   "outputs": [],
   "source": [
    "cosinus=(fr.cosinus(2,1,0,6.28,500))"
   ]
  },
  {
   "cell_type": "markdown",
   "id": "f0983046-8ef5-4980-922e-e075938ef78d",
   "metadata": {},
   "source": [
    "funkcja do wyświetlania sygnału prostokątnego:"
   ]
  },
  {
   "cell_type": "code",
   "execution_count": 38,
   "id": "4e9cee8a-6031-4744-942d-18d3fc3519a9",
   "metadata": {},
   "outputs": [],
   "source": [
    "prostokatna=(fr.prostokatna(0.5,1,0,6,500))"
   ]
  },
  {
   "cell_type": "markdown",
   "id": "00ca9c7d-4223-490f-9ac2-29ec0c729b62",
   "metadata": {},
   "source": [
    "funkcja do wyświetlania sygnału piłokształtnego:"
   ]
  },
  {
   "cell_type": "code",
   "execution_count": 39,
   "id": "b01a55e8-5f37-4577-b074-ca04be8883fd",
   "metadata": {},
   "outputs": [],
   "source": [
    "pila=(fr.pila(0.5,1,0,30,500))"
   ]
  },
  {
   "cell_type": "markdown",
   "id": "ec5e39b8-5485-43f7-a05e-b2503b52fdb5",
   "metadata": {},
   "source": [
    "funkcja do wyświetlania sygnału transformaty Fouriera:"
   ]
  },
  {
   "cell_type": "code",
   "execution_count": 40,
   "id": "35843347-5cb9-4678-b1e5-39ccd36a9b9f",
   "metadata": {},
   "outputs": [],
   "source": [
    "fourier =(fr.Fourier(sinus,0,6.28,500))"
   ]
  },
  {
   "cell_type": "markdown",
   "id": "c4057a52-f235-481d-8713-9417a9e86486",
   "metadata": {},
   "source": [
    "funkcja do wyświetlania sygnału odwrotnej transformaty Fouriera:"
   ]
  },
  {
   "cell_type": "code",
   "execution_count": 41,
   "id": "b443bc9f-947d-461c-b348-72c8363478a9",
   "metadata": {},
   "outputs": [],
   "source": [
    "inverse=(fr.inverse(fourier,0,6.28,500))"
   ]
  },
  {
   "cell_type": "markdown",
   "id": "93aeecee-f636-4275-83b7-edbcf1e85c14",
   "metadata": {},
   "source": [
    "funkcja do wyświetlania sygnału po filtracji 1d:"
   ]
  },
  {
   "cell_type": "code",
   "execution_count": 42,
   "id": "dd125dc8-a438-4159-a916-50d5d12cb751",
   "metadata": {},
   "outputs": [],
   "source": [
    "filtr1=(fr.jeden(sinus,0,6.28,500))"
   ]
  },
  {
   "cell_type": "markdown",
   "id": "6f91aee9-36f8-4a8c-8340-a6b7e6465d6f",
   "metadata": {},
   "source": [
    "funkcja do wyświetlania sygnału po filtracji 2d:"
   ]
  },
  {
   "cell_type": "code",
   "execution_count": 43,
   "id": "d7a0649b-5910-404e-97cb-f64d0edebe6b",
   "metadata": {},
   "outputs": [],
   "source": [
    "filtr2=(fr.dwa(0,10))"
   ]
  }
 ],
 "metadata": {
  "kernelspec": {
   "display_name": "Python 3 (ipykernel)",
   "language": "python",
   "name": "python3"
  },
  "language_info": {
   "codemirror_mode": {
    "name": "ipython",
    "version": 3
   },
   "file_extension": ".py",
   "mimetype": "text/x-python",
   "name": "python",
   "nbconvert_exporter": "python",
   "pygments_lexer": "ipython3",
   "version": "3.13.3"
  }
 },
 "nbformat": 4,
 "nbformat_minor": 5
}
