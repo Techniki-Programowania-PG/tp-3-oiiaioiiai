{
 "cells": [
  {
   "cell_type": "markdown",
   "id": "f4621ecd-499c-4568-9c7a-2e1b61c2f51c",
   "metadata": {},
   "source": [
    "Projekt 3 Technika Programowania\n",
    "Piotr Pachniewski s203254, Mikołaj Patyk"
   ]
  },
  {
   "cell_type": "markdown",
   "id": "7e8f43d2-0a48-481f-9282-adf85604e58e",
   "metadata": {},
   "source": [
    "Import biblioteki:"
   ]
  },
  {
   "cell_type": "code",
   "execution_count": 5,
   "id": "24d02c0c-5c36-4eb7-86d4-63aa2470adfd",
   "metadata": {
    "scrolled": true
   },
   "outputs": [],
   "source": [
    "import _core as fr"
   ]
  },
  {
   "cell_type": "markdown",
   "id": "694c0d3f-350a-4cab-af9b-b61ee657f3a0",
   "metadata": {},
   "source": [
    "funkcja do wyświetlania sygnału sinus:"
   ]
  },
  {
   "cell_type": "code",
   "execution_count": 6,
   "id": "5a496084-dac1-450d-b4d0-fb7218e1025a",
   "metadata": {},
   "outputs": [],
   "source": [
    "sinus =(fr.sinus(1,1,0,6.28,500))"
   ]
  },
  {
   "cell_type": "code",
   "execution_count": null,
   "id": "b0b8e119-4733-4ceb-a3ba-eb452fc6ee51",
   "metadata": {},
   "outputs": [],
   "source": [
    "funkcja do wyświetlania sygnału cos:"
   ]
  },
  {
   "cell_type": "code",
   "execution_count": null,
   "id": "8fa6b413-6ac8-4626-a6d0-d582411107c5",
   "metadata": {},
   "outputs": [],
   "source": [
    "print(fr.cosinus(2,1,0,6.28,500))"
   ]
  }
 ],
 "metadata": {
  "kernelspec": {
   "display_name": "Python 3 (ipykernel)",
   "language": "python",
   "name": "python3"
  },
  "language_info": {
   "codemirror_mode": {
    "name": "ipython",
    "version": 3
   },
   "file_extension": ".py",
   "mimetype": "text/x-python",
   "name": "python",
   "nbconvert_exporter": "python",
   "pygments_lexer": "ipython3",
   "version": "3.13.3"
  }
 },
 "nbformat": 4,
 "nbformat_minor": 5
}
